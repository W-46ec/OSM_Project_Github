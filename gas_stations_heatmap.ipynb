{
 "cells": [
  {
   "cell_type": "markdown",
   "metadata": {},
   "source": [
    "# Heat Map of Amenities"
   ]
  },
  {
   "cell_type": "code",
   "execution_count": 1,
   "metadata": {},
   "outputs": [],
   "source": [
    "import sys\n",
    "import numpy as np\n",
    "import pandas as pd\n",
    "import folium\n",
    "from folium.plugins import MarkerCluster, HeatMap"
   ]
  },
  {
   "cell_type": "code",
   "execution_count": 2,
   "metadata": {},
   "outputs": [],
   "source": [
    "data_path = \"./osm/amenities-vancouver.json.gz\"\n",
    "data = pd.read_json(data_path, lines = True)\n",
    "amenities = data.dropna()"
   ]
  },
  {
   "cell_type": "code",
   "execution_count": 3,
   "metadata": {},
   "outputs": [],
   "source": [
    "fuel = data[data.apply(lambda x: 'brand' in x['tags'], axis = 1)]\n",
    "fuel = fuel[fuel['amenity'] == 'fuel']"
   ]
  },
  {
   "cell_type": "code",
   "execution_count": 4,
   "metadata": {},
   "outputs": [],
   "source": [
    "coord_mid = [\n",
    "    (data.lat.max() + data.lat.min()) / 2, \n",
    "    (data.lon.max() + data.lon.min()) / 2, \n",
    "]"
   ]
  },
  {
   "cell_type": "code",
   "execution_count": 5,
   "metadata": {},
   "outputs": [],
   "source": [
    "heap_map = folium.Map(\n",
    "    location = coord_mid, \n",
    "    zoom_start = 10, \n",
    ")"
   ]
  },
  {
   "cell_type": "code",
   "execution_count": 6,
   "metadata": {},
   "outputs": [
    {
     "data": {
      "text/html": [
       "<div style=\"width:100%;\"><div style=\"position:relative;width:100%;height:0;padding-bottom:60%;\"><span style=\"color:#565656\">Make this Notebook Trusted to load map: File -> Trust Notebook</span><iframe src=\"about:blank\" style=\"position:absolute;width:100%;height:100%;left:0;top:0;border:none !important;\" data-html=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 onload=\"this.contentDocument.open();this.contentDocument.write(atob(this.getAttribute('data-html')));this.contentDocument.close();\" allowfullscreen webkitallowfullscreen mozallowfullscreen></iframe></div></div>"
      ],
      "text/plain": [
       "<folium.folium.Map at 0x2d9e65f6288>"
      ]
     },
     "execution_count": 6,
     "metadata": {},
     "output_type": "execute_result"
    }
   ],
   "source": [
    "HeatMap(\n",
    "    list(zip(fuel['lat'].values, fuel['lon'].values)), \n",
    "    min_opacity = 0.2, \n",
    "    blur = 18\n",
    ").add_to(heap_map)\n",
    "heap_map"
   ]
  },
  {
   "cell_type": "code",
   "execution_count": null,
   "metadata": {},
   "outputs": [],
   "source": []
  },
  {
   "cell_type": "code",
   "execution_count": null,
   "metadata": {},
   "outputs": [],
   "source": []
  },
  {
   "cell_type": "code",
   "execution_count": null,
   "metadata": {},
   "outputs": [],
   "source": []
  }
 ],
 "metadata": {
  "kernelspec": {
   "display_name": "Python 3",
   "language": "python",
   "name": "python3"
  },
  "language_info": {
   "codemirror_mode": {
    "name": "ipython",
    "version": 3
   },
   "file_extension": ".py",
   "mimetype": "text/x-python",
   "name": "python",
   "nbconvert_exporter": "python",
   "pygments_lexer": "ipython3",
   "version": "3.7.6"
  }
 },
 "nbformat": 4,
 "nbformat_minor": 4
}
