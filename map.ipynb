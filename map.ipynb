{
 "cells": [
  {
   "cell_type": "code",
   "execution_count": 1,
   "metadata": {},
   "outputs": [],
   "source": [
    "import sys\n",
    "import numpy as np\n",
    "import pandas as pd\n",
    "import folium\n",
    "from folium.plugins import MarkerCluster"
   ]
  },
  {
   "cell_type": "code",
   "execution_count": 2,
   "metadata": {},
   "outputs": [],
   "source": [
    "data_path = \"./osm/amenities-vancouver.json.gz\""
   ]
  },
  {
   "cell_type": "code",
   "execution_count": 3,
   "metadata": {},
   "outputs": [
    {
     "data": {
      "text/html": [
       "<div>\n",
       "<style scoped>\n",
       "    .dataframe tbody tr th:only-of-type {\n",
       "        vertical-align: middle;\n",
       "    }\n",
       "\n",
       "    .dataframe tbody tr th {\n",
       "        vertical-align: top;\n",
       "    }\n",
       "\n",
       "    .dataframe thead th {\n",
       "        text-align: right;\n",
       "    }\n",
       "</style>\n",
       "<table border=\"1\" class=\"dataframe\">\n",
       "  <thead>\n",
       "    <tr style=\"text-align: right;\">\n",
       "      <th></th>\n",
       "      <th>lat</th>\n",
       "      <th>lon</th>\n",
       "      <th>timestamp</th>\n",
       "      <th>amenity</th>\n",
       "      <th>name</th>\n",
       "      <th>tags</th>\n",
       "    </tr>\n",
       "  </thead>\n",
       "  <tbody>\n",
       "    <tr>\n",
       "      <th>0</th>\n",
       "      <td>49.260812</td>\n",
       "      <td>-123.125736</td>\n",
       "      <td>2020-03-20T18:22:12.000-07:00</td>\n",
       "      <td>cafe</td>\n",
       "      <td>Starbucks</td>\n",
       "      <td>{'brand:wikidata': 'Q37158', 'official_name': ...</td>\n",
       "    </tr>\n",
       "    <tr>\n",
       "      <th>1</th>\n",
       "      <td>49.260953</td>\n",
       "      <td>-123.125704</td>\n",
       "      <td>2019-08-02T18:11:20.000-07:00</td>\n",
       "      <td>fast_food</td>\n",
       "      <td>Salad Loop</td>\n",
       "      <td>{'opening_hours': 'Mo-Fr 07:00-17:00; Sa 10:00...</td>\n",
       "    </tr>\n",
       "    <tr>\n",
       "      <th>2</th>\n",
       "      <td>49.373423</td>\n",
       "      <td>-123.291894</td>\n",
       "      <td>2016-10-10T02:14:29.000-07:00</td>\n",
       "      <td>toilets</td>\n",
       "      <td>NaN</td>\n",
       "      <td>{}</td>\n",
       "    </tr>\n",
       "    <tr>\n",
       "      <th>3</th>\n",
       "      <td>49.249848</td>\n",
       "      <td>-122.959708</td>\n",
       "      <td>2011-09-06T03:52:10.000-07:00</td>\n",
       "      <td>bbq</td>\n",
       "      <td>NaN</td>\n",
       "      <td>{}</td>\n",
       "    </tr>\n",
       "    <tr>\n",
       "      <th>4</th>\n",
       "      <td>49.370898</td>\n",
       "      <td>-123.280448</td>\n",
       "      <td>2015-05-03T00:42:25.000-07:00</td>\n",
       "      <td>place_of_worship</td>\n",
       "      <td>St. Monica's Anglican Church</td>\n",
       "      <td>{'addr:housenumber': '6404', 'addr:street': 'W...</td>\n",
       "    </tr>\n",
       "    <tr>\n",
       "      <th>...</th>\n",
       "      <td>...</td>\n",
       "      <td>...</td>\n",
       "      <td>...</td>\n",
       "      <td>...</td>\n",
       "      <td>...</td>\n",
       "      <td>...</td>\n",
       "    </tr>\n",
       "    <tr>\n",
       "      <th>17713</th>\n",
       "      <td>49.278424</td>\n",
       "      <td>-122.806704</td>\n",
       "      <td>2013-03-26T23:45:49.000-07:00</td>\n",
       "      <td>cafe</td>\n",
       "      <td>Creekside Coffee</td>\n",
       "      <td>{}</td>\n",
       "    </tr>\n",
       "    <tr>\n",
       "      <th>17714</th>\n",
       "      <td>49.278770</td>\n",
       "      <td>-122.797628</td>\n",
       "      <td>2013-03-26T23:45:49.000-07:00</td>\n",
       "      <td>restaurant</td>\n",
       "      <td>Togo Sushi</td>\n",
       "      <td>{'cuisine': 'japanese'}</td>\n",
       "    </tr>\n",
       "    <tr>\n",
       "      <th>17715</th>\n",
       "      <td>49.276443</td>\n",
       "      <td>-122.790138</td>\n",
       "      <td>2013-03-26T23:45:50.000-07:00</td>\n",
       "      <td>parking</td>\n",
       "      <td>NaN</td>\n",
       "      <td>{}</td>\n",
       "    </tr>\n",
       "    <tr>\n",
       "      <th>17716</th>\n",
       "      <td>49.282666</td>\n",
       "      <td>-122.826978</td>\n",
       "      <td>2019-09-13T13:56:49.000-07:00</td>\n",
       "      <td>pub</td>\n",
       "      <td>Brown's Social House</td>\n",
       "      <td>{'addr:housenumber': '215', 'brewery': 'Guinne...</td>\n",
       "    </tr>\n",
       "    <tr>\n",
       "      <th>17717</th>\n",
       "      <td>49.282420</td>\n",
       "      <td>-122.826340</td>\n",
       "      <td>2019-09-13T13:56:49.000-07:00</td>\n",
       "      <td>cafe</td>\n",
       "      <td>Gallagher's Cafe</td>\n",
       "      <td>{'addr:housenumber': '232', 'internet_access':...</td>\n",
       "    </tr>\n",
       "  </tbody>\n",
       "</table>\n",
       "<p>17718 rows × 6 columns</p>\n",
       "</div>"
      ],
      "text/plain": [
       "             lat         lon                      timestamp           amenity  \\\n",
       "0      49.260812 -123.125736  2020-03-20T18:22:12.000-07:00              cafe   \n",
       "1      49.260953 -123.125704  2019-08-02T18:11:20.000-07:00         fast_food   \n",
       "2      49.373423 -123.291894  2016-10-10T02:14:29.000-07:00           toilets   \n",
       "3      49.249848 -122.959708  2011-09-06T03:52:10.000-07:00               bbq   \n",
       "4      49.370898 -123.280448  2015-05-03T00:42:25.000-07:00  place_of_worship   \n",
       "...          ...         ...                            ...               ...   \n",
       "17713  49.278424 -122.806704  2013-03-26T23:45:49.000-07:00              cafe   \n",
       "17714  49.278770 -122.797628  2013-03-26T23:45:49.000-07:00        restaurant   \n",
       "17715  49.276443 -122.790138  2013-03-26T23:45:50.000-07:00           parking   \n",
       "17716  49.282666 -122.826978  2019-09-13T13:56:49.000-07:00               pub   \n",
       "17717  49.282420 -122.826340  2019-09-13T13:56:49.000-07:00              cafe   \n",
       "\n",
       "                               name  \\\n",
       "0                         Starbucks   \n",
       "1                        Salad Loop   \n",
       "2                               NaN   \n",
       "3                               NaN   \n",
       "4      St. Monica's Anglican Church   \n",
       "...                             ...   \n",
       "17713              Creekside Coffee   \n",
       "17714                    Togo Sushi   \n",
       "17715                           NaN   \n",
       "17716          Brown's Social House   \n",
       "17717              Gallagher's Cafe   \n",
       "\n",
       "                                                    tags  \n",
       "0      {'brand:wikidata': 'Q37158', 'official_name': ...  \n",
       "1      {'opening_hours': 'Mo-Fr 07:00-17:00; Sa 10:00...  \n",
       "2                                                     {}  \n",
       "3                                                     {}  \n",
       "4      {'addr:housenumber': '6404', 'addr:street': 'W...  \n",
       "...                                                  ...  \n",
       "17713                                                 {}  \n",
       "17714                            {'cuisine': 'japanese'}  \n",
       "17715                                                 {}  \n",
       "17716  {'addr:housenumber': '215', 'brewery': 'Guinne...  \n",
       "17717  {'addr:housenumber': '232', 'internet_access':...  \n",
       "\n",
       "[17718 rows x 6 columns]"
      ]
     },
     "execution_count": 3,
     "metadata": {},
     "output_type": "execute_result"
    }
   ],
   "source": [
    "data = pd.read_json(data_path, lines = True)\n",
    "data"
   ]
  },
  {
   "cell_type": "code",
   "execution_count": 4,
   "metadata": {},
   "outputs": [],
   "source": [
    "coord = [data.lat.mean(), data.lon.mean()]"
   ]
  },
  {
   "cell_type": "code",
   "execution_count": 5,
   "metadata": {
    "scrolled": true
   },
   "outputs": [],
   "source": [
    "m = folium.Map(location = coord, zoom_start = 11)"
   ]
  },
  {
   "cell_type": "code",
   "execution_count": 6,
   "metadata": {},
   "outputs": [
    {
     "data": {
      "text/plain": [
       "217"
      ]
     },
     "execution_count": 6,
     "metadata": {},
     "output_type": "execute_result"
    }
   ],
   "source": [
    "len(data[data['name'] == 'Starbucks'])"
   ]
  },
  {
   "cell_type": "code",
   "execution_count": 7,
   "metadata": {},
   "outputs": [
    {
     "data": {
      "text/html": [
       "<div style=\"width:100%;\"><div style=\"position:relative;width:100%;height:0;padding-bottom:60%;\"><span style=\"color:#565656\">Make this Notebook Trusted to load map: File -> Trust Notebook</span><iframe src=\"about:blank\" style=\"position:absolute;width:100%;height:100%;left:0;top:0;border:none !important;\" data-html=PCFET0NUWVBFIGh0bWw+CjxoZWFkPiAgICAKICAgIDxtZXRhIGh0dHAtZXF1aXY9ImNvbnRlbnQtdHlwZSIgY29udGVudD0idGV4dC9odG1sOyBjaGFyc2V0PVVURi04IiAvPgogICAgCiAgICAgICAgPHNjcmlwdD4KICAgICAgICAgICAgTF9OT19UT1VDSCA9IGZhbHNlOwogICAgICAgICAgICBMX0RJU0FCTEVfM0QgPSBmYWxzZTsKICAgICAgICA8L3NjcmlwdD4KICAgIAogICAgPHNjcmlwdCBzcmM9Imh0dHBzOi8vY2RuLmpzZGVsaXZyLm5ldC9ucG0vbGVhZmxldEAxLjYuMC9kaXN0L2xlYWZsZXQuanMiPjwvc2NyaXB0PgogICAgPHNjcmlwdCBzcmM9Imh0dHBzOi8vY29kZS5qcXVlcnkuY29tL2pxdWVyeS0xLjEyLjQubWluLmpzIj48L3NjcmlwdD4KICAgIDxzY3JpcHQgc3JjPSJodHRwczovL21heGNkbi5ib290c3RyYXBjZG4uY29tL2Jvb3RzdHJhcC8zLjIuMC9qcy9ib290c3RyYXAubWluLmpzIj48L3NjcmlwdD4KICAgIDxzY3JpcHQgc3JjPSJodHRwczovL2NkbmpzLmNsb3VkZmxhcmUuY29tL2FqYXgvbGlicy9MZWFmbGV0LmF3ZXNvbWUtbWFya2Vycy8yLjAuMi9sZWFmbGV0LmF3ZXNvbWUtbWFya2Vycy5qcyI+PC9zY3JpcHQ+CiAgICA8bGluayByZWw9InN0eWxlc2hlZXQiIGhyZWY9Imh0dHBzOi8vY2RuLmpzZGVsaXZyLm5ldC9ucG0vbGVhZmxldEAxLjYuMC9kaXN0L2xlYWZsZXQuY3NzIi8+CiAgICA8bGluayByZWw9InN0eWxlc2hlZXQiIGhyZWY9Imh0dHBzOi8vbWF4Y2RuLmJvb3RzdHJhcGNkbi5jb20vYm9vdHN0cmFwLzMuMi4wL2Nzcy9ib290c3RyYXAubWluLmNzcyIvPgogICAgPGxpbmsgcmVsPSJzdHlsZXNoZWV0IiBocmVmPSJodHRwczovL21heGNkbi5ib290c3RyYXBjZG4uY29tL2Jvb3RzdHJhcC8zLjIuMC9jc3MvYm9vdHN0cmFwLXRoZW1lLm1pbi5jc3MiLz4KICAgIDxsaW5rIHJlbD0ic3R5bGVzaGVldCIgaHJlZj0iaHR0cHM6Ly9tYXhjZG4uYm9vdHN0cmFwY2RuLmNvbS9mb250LWF3ZXNvbWUvNC42LjMvY3NzL2ZvbnQtYXdlc29tZS5taW4uY3NzIi8+CiAgICA8bGluayByZWw9InN0eWxlc2hlZXQiIGhyZWY9Imh0dHBzOi8vY2RuanMuY2xvdWRmbGFyZS5jb20vYWpheC9saWJzL0xlYWZsZXQuYXdlc29tZS1tYXJrZXJzLzIuMC4yL2xlYWZsZXQuYXdlc29tZS1tYXJrZXJzLmNzcyIvPgogICAgPGxpbmsgcmVsPSJzdHlsZXNoZWV0IiBocmVmPSJodHRwczovL3Jhd2Nkbi5naXRoYWNrLmNvbS9weXRob24tdmlzdWFsaXphdGlvbi9mb2xpdW0vbWFzdGVyL2ZvbGl1bS90ZW1wbGF0ZXMvbGVhZmxldC5hd2Vzb21lLnJvdGF0ZS5jc3MiLz4KICAgIDxzdHlsZT5odG1sLCBib2R5IHt3aWR0aDogMTAwJTtoZWlnaHQ6IDEwMCU7bWFyZ2luOiAwO3BhZGRpbmc6IDA7fTwvc3R5bGU+CiAgICA8c3R5bGU+I21hcCB7cG9zaXRpb246YWJzb2x1dGU7dG9wOjA7Ym90dG9tOjA7cmlnaHQ6MDtsZWZ0OjA7fTwvc3R5bGU+CiAgICAKICAgICAgICAgICAgPG1ldGEgbmFtZT0idmlld3BvcnQiIGNvbnRlbnQ9IndpZHRoPWRldmljZS13aWR0aCwKICAgICAgICAgICAgICAgIGluaXRpYWwtc2NhbGU9MS4wLCBtYXhpbXVtLXNjYWxlPTEuMCwgdXNlci1zY2FsYWJsZT1ubyIgLz4KICAgICAgICAgICAgPHN0eWxlPgogICAgICAgICAgICAgICAgI21hcF9kZGNhNTQwNGViNzg0YmYxOTMyODlhNDdkNjk3ZWRmZSB7CiAgICAgICAgICAgICAgICAgICAgcG9zaXRpb246IHJlbGF0aXZlOwogICAgICAgICAgICAgICAgICAgIHdpZHRoOiAxMDAuMCU7CiAgICAgICAgICAgICAgICAgICAgaGVpZ2h0OiAxMDAuMCU7CiAgICAgICAgICAgICAgICAgICAgbGVmdDogMC4wJTsKICAgICAgICAgICAgICAgICAgICB0b3A6IDAuMCU7CiAgICAgICAgICAgICAgICB9CiAgICAgICAgICAgIDwvc3R5bGU+CiAgICAgICAgCjwvaGVhZD4KPGJvZHk+ICAgIAogICAgCiAgICAgICAgICAgIDxkaXYgY2xhc3M9ImZvbGl1bS1tYXAiIGlkPSJtYXBfZGRjYTU0MDRlYjc4NGJmMTkzMjg5YTQ3ZDY5N2VkZmUiID48L2Rpdj4KICAgICAgICAKPC9ib2R5Pgo8c2NyaXB0PiAgICAKICAgIAogICAgICAgICAgICB2YXIgbWFwX2RkY2E1NDA0ZWI3ODRiZjE5MzI4OWE0N2Q2OTdlZGZlID0gTC5tYXAoCiAgICAgICAgICAgICAgICAibWFwX2RkY2E1NDA0ZWI3ODRiZjE5MzI4OWE0N2Q2OTdlZGZlIiwKICAgICAgICAgICAgICAgIHsKICAgICAgICAgICAgICAgICAgICBjZW50ZXI6IFs0OS4yMTM4NDYwMDI2NTgyOSwgLTEyMi45MzM1NTYyMzkwMTYyN10sCiAgICAgICAgICAgICAgICAgICAgY3JzOiBMLkNSUy5FUFNHMzg1NywKICAgICAgICAgICAgICAgICAgICB6b29tOiAxMSwKICAgICAgICAgICAgICAgICAgICB6b29tQ29udHJvbDogdHJ1ZSwKICAgICAgICAgICAgICAgICAgICBwcmVmZXJDYW52YXM6IGZhbHNlLAogICAgICAgICAgICAgICAgfQogICAgICAgICAgICApOwoKICAgICAgICAgICAgCgogICAgICAgIAogICAgCiAgICAgICAgICAgIHZhciB0aWxlX2xheWVyX2NiMTQ1MWUzNzVhMjQ5MGNhMWUyMmU4ODQ0MzRmMWU2ID0gTC50aWxlTGF5ZXIoCiAgICAgICAgICAgICAgICAiaHR0cHM6Ly97c30udGlsZS5vcGVuc3RyZWV0bWFwLm9yZy97en0ve3h9L3t5fS5wbmciLAogICAgICAgICAgICAgICAgeyJhdHRyaWJ1dGlvbiI6ICJEYXRhIGJ5IFx1MDAyNmNvcHk7IFx1MDAzY2EgaHJlZj1cImh0dHA6Ly9vcGVuc3RyZWV0bWFwLm9yZ1wiXHUwMDNlT3BlblN0cmVldE1hcFx1MDAzYy9hXHUwMDNlLCB1bmRlciBcdTAwM2NhIGhyZWY9XCJodHRwOi8vd3d3Lm9wZW5zdHJlZXRtYXAub3JnL2NvcHlyaWdodFwiXHUwMDNlT0RiTFx1MDAzYy9hXHUwMDNlLiIsICJkZXRlY3RSZXRpbmEiOiBmYWxzZSwgIm1heE5hdGl2ZVpvb20iOiAxOCwgIm1heFpvb20iOiAxOCwgIm1pblpvb20iOiAwLCAibm9XcmFwIjogZmFsc2UsICJvcGFjaXR5IjogMSwgInN1YmRvbWFpbnMiOiAiYWJjIiwgInRtcyI6IGZhbHNlfQogICAgICAgICAgICApLmFkZFRvKG1hcF9kZGNhNTQwNGViNzg0YmYxOTMyODlhNDdkNjk3ZWRmZSk7CiAgICAgICAgCiAgICAKICAgICAgICAgICAgdmFyIG1hcmtlcl9hYWU4OWM1OTY4Y2U0MGIyYTkwNGE5ZjQ4ZTllNmZkMiA9IEwubWFya2VyKAogICAgICAgICAgICAgICAgWzQ5LjIzNDc0OTMsIC0xMjMuMTU0NzI0OV0sCiAgICAgICAgICAgICAgICB7fQogICAgICAgICAgICApLmFkZFRvKG1hcF9kZGNhNTQwNGViNzg0YmYxOTMyODlhNDdkNjk3ZWRmZSk7CiAgICAgICAgCiAgICAKICAgICAgICAgICAgdmFyIG1hcmtlcl84OWZjZDFmZTc5NzM0MWIzODBjNTE0MzJkYzA1OWE1NiA9IEwubWFya2VyKAogICAgICAgICAgICAgICAgWzQ5LjEzMzA4NTEsIC0xMjMuMDk0MDg2OV0sCiAgICAgICAgICAgICAgICB7fQogICAgICAgICAgICApLmFkZFRvKG1hcF9kZGNhNTQwNGViNzg0YmYxOTMyODlhNDdkNjk3ZWRmZSk7CiAgICAgICAgCiAgICAKICAgICAgICAgICAgdmFyIG1hcmtlcl8xMjA0MTUwNTA2OGI0NzcwODdmY2MzY2I4NjljYzVlMiA9IEwubWFya2VyKAogICAgICAgICAgICAgICAgWzQ5LjI1MDExNjMsIC0xMjIuODkyMzAyNl0sCiAgICAgICAgICAgICAgICB7fQogICAgICAgICAgICApLmFkZFRvKG1hcF9kZGNhNTQwNGViNzg0YmYxOTMyODlhNDdkNjk3ZWRmZSk7CiAgICAgICAgCiAgICAKICAgICAgICAgICAgdmFyIG1hcmtlcl9mYzQzOTIyNGFkNDk0OTY1Yjk5NGYzMjg2OTY4NTgyNyA9IEwubWFya2VyKAogICAgICAgICAgICAgICAgWzQ5LjI1NDg2NTMsIC0xMjIuNzM1NDI2N10sCiAgICAgICAgICAgICAgICB7fQogICAgICAgICAgICApLmFkZFRvKG1hcF9kZGNhNTQwNGViNzg0YmYxOTMyODlhNDdkNjk3ZWRmZSk7CiAgICAgICAgCiAgICAKICAgICAgICAgICAgdmFyIG1hcmtlcl9kZTFmNzA5MjkwYjU0MThjOTBjYzA5MjU3Yzc1NzU4ZCA9IEwubWFya2VyKAogICAgICAgICAgICAgICAgWzQ5LjIwODEyMzYsIC0xMjMuMTQwNzgyN10sCiAgICAgICAgICAgICAgICB7fQogICAgICAgICAgICApLmFkZFRvKG1hcF9kZGNhNTQwNGViNzg0YmYxOTMyODlhNDdkNjk3ZWRmZSk7CiAgICAgICAgCiAgICAKICAgICAgICAgICAgdmFyIG1hcmtlcl85NWQ3YTM5NjBmMDQ0ZWVhOWM4ODNhYmUzZGM1ODE1NCA9IEwubWFya2VyKAogICAgICAgICAgICAgICAgWzQ5LjI2MDE4MjYsIC0xMjMuMDA1NjQ3Ml0sCiAgICAgICAgICAgICAgICB7fQogICAgICAgICAgICApLmFkZFRvKG1hcF9kZGNhNTQwNGViNzg0YmYxOTMyODlhNDdkNjk3ZWRmZSk7CiAgICAgICAgCiAgICAKICAgICAgICAgICAgdmFyIG1hcmtlcl84ZWFhNDMwMmYwOGQ0ZTUwOTM2OTk1NTEzNTg5NzBlNiA9IEwubWFya2VyKAogICAgICAgICAgICAgICAgWzQ5LjI2NTg4MywgLTEyMy4wMjQyNzg2XSwKICAgICAgICAgICAgICAgIHt9CiAgICAgICAgICAgICkuYWRkVG8obWFwX2RkY2E1NDA0ZWI3ODRiZjE5MzI4OWE0N2Q2OTdlZGZlKTsKICAgICAgICAKICAgIAogICAgICAgICAgICB2YXIgbWFya2VyXzJjM2Y0NDhmYmU4ZDRlNGM4MmVkMWVhNjU2ODQ0NjI2ID0gTC5tYXJrZXIoCiAgICAgICAgICAgICAgICBbNDkuMjMzMDg4LCAtMTIzLjA2NTcyOTJdLAogICAgICAgICAgICAgICAge30KICAgICAgICAgICAgKS5hZGRUbyhtYXBfZGRjYTU0MDRlYjc4NGJmMTkzMjg5YTQ3ZDY5N2VkZmUpOwogICAgICAgIAogICAgCiAgICAgICAgICAgIHZhciBtYXJrZXJfOTQ5Yzg4ZjEzZTI4NDdjMGJiMDY1N2ZkZGJlZjZlOGEgPSBMLm1hcmtlcigKICAgICAgICAgICAgICAgIFs0OS4yMTgyNTY0LCAtMTIzLjA3NzM4MTNdLAogICAgICAgICAgICAgICAge30KICAgICAgICAgICAgKS5hZGRUbyhtYXBfZGRjYTU0MDRlYjc4NGJmMTkzMjg5YTQ3ZDY5N2VkZmUpOwogICAgICAgIAogICAgCiAgICAgICAgICAgIHZhciBtYXJrZXJfYmZmNTNjYmNlMzMyNDdiNTlkNDcyZTQ4MjNlMmYyMGQgPSBMLm1hcmtlcigKICAgICAgICAgICAgICAgIFs0OS4yNjMzODg0LCAtMTIzLjExNjA3OThdLAogICAgICAgICAgICAgICAge30KICAgICAgICAgICAgKS5hZGRUbyhtYXBfZGRjYTU0MDRlYjc4NGJmMTkzMjg5YTQ3ZDY5N2VkZmUpOwogICAgICAgIAogICAgCiAgICAgICAgICAgIHZhciBtYXJrZXJfOWI5NjBjYTA0MTc0NDQ5MThjNjIzNTdmZDRjOGQ2YjkgPSBMLm1hcmtlcigKICAgICAgICAgICAgICAgIFs0OS4yOTA2MjE4LCAtMTIzLjEzMzg1MTZdLAogICAgICAgICAgICAgICAge30KICAgICAgICAgICAgKS5hZGRUbyhtYXBfZGRjYTU0MDRlYjc4NGJmMTkzMjg5YTQ3ZDY5N2VkZmUpOwogICAgICAgIAogICAgCiAgICAgICAgICAgIHZhciBtYXJrZXJfMTZiZGJkYTU3YjA3NDhjM2E1Zjk0YjZhMzBhNGIxYzQgPSBMLm1hcmtlcigKICAgICAgICAgICAgICAgIFs0OS4yODA4OTY5LCAtMTIzLjEwNzMxNDNdLAogICAgICAgICAgICAgICAge30KICAgICAgICAgICAgKS5hZGRUbyhtYXBfZGRjYTU0MDRlYjc4NGJmMTkzMjg5YTQ3ZDY5N2VkZmUpOwogICAgICAgIAogICAgCiAgICAgICAgICAgIHZhciBtYXJrZXJfNzg4MTU2ZTE2NTcwNGZmOWFjNDczNTNhOWM3YzllMzQgPSBMLm1hcmtlcigKICAgICAgICAgICAgICAgIFs0OS4xNzcxODEzLCAtMTIyLjY2OTE1NTFdLAogICAgICAgICAgICAgICAge30KICAgICAgICAgICAgKS5hZGRUbyhtYXBfZGRjYTU0MDRlYjc4NGJmMTkzMjg5YTQ3ZDY5N2VkZmUpOwogICAgICAgIAogICAgCiAgICAgICAgICAgIHZhciBtYXJrZXJfYzgxODAzZTk0OGJhNGEzMWJkYmU3MjY1MzFhMzk3MWYgPSBMLm1hcmtlcigKICAgICAgICAgICAgICAgIFs0OS4xNTM3NTIzLCAtMTIzLjE1ODQ3MjZdLAogICAgICAgICAgICAgICAge30KICAgICAgICAgICAgKS5hZGRUbyhtYXBfZGRjYTU0MDRlYjc4NGJmMTkzMjg5YTQ3ZDY5N2VkZmUpOwogICAgICAgIAogICAgCiAgICAgICAgICAgIHZhciBtYXJrZXJfY2FhZjRmYzMyNGYyNDAzZGFjNmI1ZGMwZDYxNjc1NTMgPSBMLm1hcmtlcigKICAgICAgICAgICAgICAgIFs0OS4yMDI3NDc3LCAtMTIyLjg3OTUwNzZdLAogICAgICAgICAgICAgICAge30KICAgICAgICAgICAgKS5hZGRUbyhtYXBfZGRjYTU0MDRlYjc4NGJmMTkzMjg5YTQ3ZDY5N2VkZmUpOwogICAgICAgIAogICAgCiAgICAgICAgICAgIHZhciBtYXJrZXJfNDhkNjc1NWE0MjI2NGUzODkwZDQzZDg0YjcyYjA2MTkgPSBMLm1hcmtlcigKICAgICAgICAgICAgICAgIFs0OS4yNjM0NDc5LCAtMTIzLjEzODA2NjldLAogICAgICAgICAgICAgICAge30KICAgICAgICAgICAgKS5hZGRUbyhtYXBfZGRjYTU0MDRlYjc4NGJmMTkzMjg5YTQ3ZDY5N2VkZmUpOwogICAgICAgIAogICAgCiAgICAgICAgICAgIHZhciBtYXJrZXJfYzEwMmEyYzQ3NWQ4NDU2Y2EwNTA3MjcyOGUwZjJkZjUgPSBMLm1hcmtlcigKICAgICAgICAgICAgICAgIFs0OS4xNjE2Mzk5LCAtMTIzLjEzNTg5MjldLAogICAgICAgICAgICAgICAge30KICAgICAgICAgICAgKS5hZGRUbyhtYXBfZGRjYTU0MDRlYjc4NGJmMTkzMjg5YTQ3ZDY5N2VkZmUpOwogICAgICAgIAogICAgCiAgICAgICAgICAgIHZhciBtYXJrZXJfMzAyZGM1M2UwOTIwNGMwODg4MGI3ZTY5OTA4ZmE2MTMgPSBMLm1hcmtlcigKICAgICAgICAgICAgICAgIFs0OS4wMzU5MjA1LCAtMTIzLjA2OTE2OTFdLAogICAgICAgICAgICAgICAge30KICAgICAgICAgICAgKS5hZGRUbyhtYXBfZGRjYTU0MDRlYjc4NGJmMTkzMjg5YTQ3ZDY5N2VkZmUpOwogICAgICAgIAogICAgCiAgICAgICAgICAgIHZhciBtYXJrZXJfZDI0ODllY2M5MGZjNDE3YzgzZGE1ZmI4ZWRmYmI5YzQgPSBMLm1hcmtlcigKICAgICAgICAgICAgICAgIFs0OS4xOTE2OTk0LCAtMTIyLjk1MDI0NDNdLAogICAgICAgICAgICAgICAge30KICAgICAgICAgICAgKS5hZGRUbyhtYXBfZGRjYTU0MDRlYjc4NGJmMTkzMjg5YTQ3ZDY5N2VkZmUpOwogICAgICAgIAogICAgCiAgICAgICAgICAgIHZhciBtYXJrZXJfMzNlMzU0NjJjN2NkNDJjY2JmNzA3ZWY3YjQwYWI4MmUgPSBMLm1hcmtlcigKICAgICAgICAgICAgICAgIFs0OS4yMzM1MTI0LCAtMTIyLjg2MjQ1NDJdLAogICAgICAgICAgICAgICAge30KICAgICAgICAgICAgKS5hZGRUbyhtYXBfZGRjYTU0MDRlYjc4NGJmMTkzMjg5YTQ3ZDY5N2VkZmUpOwogICAgICAgIAogICAgCiAgICAgICAgICAgIHZhciBtYXJrZXJfYWI0MzljYWZhMzg4NDU2MTk5NWQ3Y2E1Yzc1Y2YwYzUgPSBMLm1hcmtlcigKICAgICAgICAgICAgICAgIFs0OS4xMDQ3Njk1LCAtMTIyLjgwNDIyODNdLAogICAgICAgICAgICAgICAge30KICAgICAgICAgICAgKS5hZGRUbyhtYXBfZGRjYTU0MDRlYjc4NGJmMTkzMjg5YTQ3ZDY5N2VkZmUpOwogICAgICAgIAogICAgCiAgICAgICAgICAgIHZhciBtYXJrZXJfMTI3NWI4ZDRlYzNjNDUzZGJmYTM4NjhiYzRmZDRkMWEgPSBMLm1hcmtlcigKICAgICAgICAgICAgICAgIFs0OS4yMjczODY3LCAtMTIyLjk5OTcyMDZdLAogICAgICAgICAgICAgICAge30KICAgICAgICAgICAgKS5hZGRUbyhtYXBfZGRjYTU0MDRlYjc4NGJmMTkzMjg5YTQ3ZDY5N2VkZmUpOwogICAgICAgIAogICAgCiAgICAgICAgICAgIHZhciBtYXJrZXJfYWYyMDdlODNmMDVkNDU4M2I2MmNlNmZjNzdiMTcyZTggPSBMLm1hcmtlcigKICAgICAgICAgICAgICAgIFs0OS4zMzI5NDk4LCAtMTIzLjA4ODQ4NDJdLAogICAgICAgICAgICAgICAge30KICAgICAgICAgICAgKS5hZGRUbyhtYXBfZGRjYTU0MDRlYjc4NGJmMTkzMjg5YTQ3ZDY5N2VkZmUpOwogICAgICAgIAogICAgCiAgICAgICAgICAgIHZhciBtYXJrZXJfNTRmNTQzYmUyZDlmNGVhNmE0NTY1N2ZkOWVkYzA5NTAgPSBMLm1hcmtlcigKICAgICAgICAgICAgICAgIFs0OS4wNjExMzg1LCAtMTIyLjM4MDc5NTVdLAogICAgICAgICAgICAgICAge30KICAgICAgICAgICAgKS5hZGRUbyhtYXBfZGRjYTU0MDRlYjc4NGJmMTkzMjg5YTQ3ZDY5N2VkZmUpOwogICAgICAgIAogICAgCiAgICAgICAgICAgIHZhciBtYXJrZXJfYTJkYTFjMjI3NjExNGUwOGExYTJlMTExMmE1OWY5M2UgPSBMLm1hcmtlcigKICAgICAgICAgICAgICAgIFs0OS4yMDYwNzE5LCAtMTIzLjEyNTUwOV0sCiAgICAgICAgICAgICAgICB7fQogICAgICAgICAgICApLmFkZFRvKG1hcF9kZGNhNTQwNGViNzg0YmYxOTMyODlhNDdkNjk3ZWRmZSk7CiAgICAgICAgCiAgICAKICAgICAgICAgICAgdmFyIG1hcmtlcl9kZjVhOWQ3MmUyMWU0Y2ZiYWRlYTQ1YmIwMzEwMDI0OSA9IEwubWFya2VyKAogICAgICAgICAgICAgICAgWzQ5LjI4MDU0OCwgLTEyMy4xMjEzNjYyXSwKICAgICAgICAgICAgICAgIHt9CiAgICAgICAgICAgICkuYWRkVG8obWFwX2RkY2E1NDA0ZWI3ODRiZjE5MzI4OWE0N2Q2OTdlZGZlKTsKICAgICAgICAKICAgIAogICAgICAgICAgICB2YXIgbWFya2VyXzhkMmY4MjVmMGU4ODQyMjFiNTYzZWFiNjAxZjJiOGU2ID0gTC5tYXJrZXIoCiAgICAgICAgICAgICAgICBbNDkuMTc3NDk3NiwgLTEyMy4xMjAxNDQ5XSwKICAgICAgICAgICAgICAgIHt9CiAgICAgICAgICAgICkuYWRkVG8obWFwX2RkY2E1NDA0ZWI3ODRiZjE5MzI4OWE0N2Q2OTdlZGZlKTsKICAgICAgICAKICAgIAogICAgICAgICAgICB2YXIgbWFya2VyXzlhOWVkOWUzNGZjNzQ3YTc5NTQ3ZjYyNDA1MTk0YjY0ID0gTC5tYXJrZXIoCiAgICAgICAgICAgICAgICBbNDkuMTAzODAyNywgLTEyMi43MjUwMjIzXSwKICAgICAgICAgICAgICAgIHt9CiAgICAgICAgICAgICkuYWRkVG8obWFwX2RkY2E1NDA0ZWI3ODRiZjE5MzI4OWE0N2Q2OTdlZGZlKTsKICAgICAgICAKICAgIAogICAgICAgICAgICB2YXIgbWFya2VyX2VhYmM0Y2U0YzgyNzRiZDFhOWEyMWJjYTc1ZGExYmI1ID0gTC5tYXJrZXIoCiAgICAgICAgICAgICAgICBbNDkuMjY4MzU3OCwgLTEyMy4xNTk1MTI1XSwKICAgICAgICAgICAgICAgIHt9CiAgICAgICAgICAgICkuYWRkVG8obWFwX2RkY2E1NDA0ZWI3ODRiZjE5MzI4OWE0N2Q2OTdlZGZlKTsKICAgICAgICAKICAgIAogICAgICAgICAgICB2YXIgbWFya2VyXzNiYWZkYzVkM2FiNzQyNWY5YWIwNjM3NzUyNWQ5MDAxID0gTC5tYXJrZXIoCiAgICAgICAgICAgICAgICBbNDkuMDM2NjAyMiwgLTEyMi4yOTIxNzY2XSwKICAgICAgICAgICAgICAgIHt9CiAgICAgICAgICAgICkuYWRkVG8obWFwX2RkY2E1NDA0ZWI3ODRiZjE5MzI4OWE0N2Q2OTdlZGZlKTsKICAgICAgICAKICAgIAogICAgICAgICAgICB2YXIgbWFya2VyXzkwYzI0YzA3OGQ0MzQ2MTA5N2E3ZjU0YzZkY2E4ZDM2ID0gTC5tYXJrZXIoCiAgICAgICAgICAgICAgICBbNDkuMjg0NzY0OSwgLTEyMy4xMjEwNjEyXSwKICAgICAgICAgICAgICAgIHt9CiAgICAgICAgICAgICkuYWRkVG8obWFwX2RkY2E1NDA0ZWI3ODRiZjE5MzI4OWE0N2Q2OTdlZGZlKTsKICAgICAgICAKICAgIAogICAgICAgICAgICB2YXIgbWFya2VyX2M2MjIyNjQ2NzNlMDQ0MWY4NmZmNDkwYTdmNGY5Y2UwID0gTC5tYXJrZXIoCiAgICAgICAgICAgICAgICBbNDkuMjYxNzQ2MywgLTEyMy4wNjk2MDI1XSwKICAgICAgICAgICAgICAgIHt9CiAgICAgICAgICAgICkuYWRkVG8obWFwX2RkY2E1NDA0ZWI3ODRiZjE5MzI4OWE0N2Q2OTdlZGZlKTsKICAgICAgICAKICAgIAogICAgICAgICAgICB2YXIgbWFya2VyXzkxNmI1NjVmYWY3NzQ5Yjg5NGFiNWZkNjI2ZTk1NTE3ID0gTC5tYXJrZXIoCiAgICAgICAgICAgICAgICBbNDkuMzA2Njc3NSwgLTEyMy4wMzY1MTU5XSwKICAgICAgICAgICAgICAgIHt9CiAgICAgICAgICAgICkuYWRkVG8obWFwX2RkY2E1NDA0ZWI3ODRiZjE5MzI4OWE0N2Q2OTdlZGZlKTsKICAgICAgICAKICAgIAogICAgICAgICAgICB2YXIgbWFya2VyX2Q3NGZhMjE2NDY0NDQ0YmNhMTE3ZDI0NDBkMDg0YjViID0gTC5tYXJrZXIoCiAgICAgICAgICAgICAgICBbNDkuMTE4MjQxOCwgLTEyMi44NDYxOTE3XSwKICAgICAgICAgICAgICAgIHt9CiAgICAgICAgICAgICkuYWRkVG8obWFwX2RkY2E1NDA0ZWI3ODRiZjE5MzI4OWE0N2Q2OTdlZGZlKTsKICAgICAgICAKICAgIAogICAgICAgICAgICB2YXIgbWFya2VyX2Y1ZjM3Zjg5ZWRmZTQ3OWQ5YmIxNmI3MTNkNWZjYjk2ID0gTC5tYXJrZXIoCiAgICAgICAgICAgICAgICBbNDkuMjg3Mzk2NSwgLTEyMy4xMTQzNjY1XSwKICAgICAgICAgICAgICAgIHt9CiAgICAgICAgICAgICkuYWRkVG8obWFwX2RkY2E1NDA0ZWI3ODRiZjE5MzI4OWE0N2Q2OTdlZGZlKTsKICAgICAgICAKICAgIAogICAgICAgICAgICB2YXIgbWFya2VyX2I4MmY4NWRiNjhjNzQ4NTNhYjIxYTE2YzdkNTFiYWIxID0gTC5tYXJrZXIoCiAgICAgICAgICAgICAgICBbNDkuMDc2NDU0MiwgLTEyMi42NzA3MDAyXSwKICAgICAgICAgICAgICAgIHt9CiAgICAgICAgICAgICkuYWRkVG8obWFwX2RkY2E1NDA0ZWI3ODRiZjE5MzI4OWE0N2Q2OTdlZGZlKTsKICAgICAgICAKICAgIAogICAgICAgICAgICB2YXIgbWFya2VyX2VhMmVhMzFjY2FkYjRjN2U4ZWUxNTUyNjU3YWM3OTI2ID0gTC5tYXJrZXIoCiAgICAgICAgICAgICAgICBbNDkuMjg1MTI2LCAtMTIzLjA2NDAwMzZdLAogICAgICAgICAgICAgICAge30KICAgICAgICAgICAgKS5hZGRUbyhtYXBfZGRjYTU0MDRlYjc4NGJmMTkzMjg5YTQ3ZDY5N2VkZmUpOwogICAgICAgIAogICAgCiAgICAgICAgICAgIHZhciBtYXJrZXJfYThlODU3YjgxMDllNGE0Mzg1YmUzMzg4NjQ5YTZiNjEgPSBMLm1hcmtlcigKICAgICAgICAgICAgICAgIFs0OS4yNDUxNTEyLCAtMTIzLjEwMTUxMjhdLAogICAgICAgICAgICAgICAge30KICAgICAgICAgICAgKS5hZGRUbyhtYXBfZGRjYTU0MDRlYjc4NGJmMTkzMjg5YTQ3ZDY5N2VkZmUpOwogICAgICAgIAogICAgCiAgICAgICAgICAgIHZhciBtYXJrZXJfYTgyZWY3ZDNiNjczNDEyN2JlNDFkNDY4NDUwNGIyNDkgPSBMLm1hcmtlcigKICAgICAgICAgICAgICAgIFs0OS4yMDA3MzQ4LCAtMTIyLjk4MTIyMDJdLAogICAgICAgICAgICAgICAge30KICAgICAgICAgICAgKS5hZGRUbyhtYXBfZGRjYTU0MDRlYjc4NGJmMTkzMjg5YTQ3ZDY5N2VkZmUpOwogICAgICAgIAogICAgCiAgICAgICAgICAgIHZhciBtYXJrZXJfYWY4N2U2ZTljZDc2NGZiZmE1YzQ0NDIwYjY0YTUwYmUgPSBMLm1hcmtlcigKICAgICAgICAgICAgICAgIFs0OS4zMzYwMTQ2LCAtMTIzLjA0MDU5Ml0sCiAgICAgICAgICAgICAgICB7fQogICAgICAgICAgICApLmFkZFRvKG1hcF9kZGNhNTQwNGViNzg0YmYxOTMyODlhNDdkNjk3ZWRmZSk7CiAgICAgICAgCiAgICAKICAgICAgICAgICAgdmFyIG1hcmtlcl8zMWY2NGU4NjU5MjU0NmVjODk4YjA5YjE2NTg4NTc1NCA9IEwubWFya2VyKAogICAgICAgICAgICAgICAgWzQ5LjExMTQwOTQsIC0xMjIuNjc1MzA2M10sCiAgICAgICAgICAgICAgICB7fQogICAgICAgICAgICApLmFkZFRvKG1hcF9kZGNhNTQwNGViNzg0YmYxOTMyODlhNDdkNjk3ZWRmZSk7CiAgICAgICAgCiAgICAKICAgICAgICAgICAgdmFyIG1hcmtlcl85MjIyMTRhYmNhYzg0ODMxOGFkMzNiMzc0ZTQ3YjdiNyA9IEwubWFya2VyKAogICAgICAgICAgICAgICAgWzQ5LjMyNzM5NDcsIC0xMjMuMDcyNDMyXSwKICAgICAgICAgICAgICAgIHt9CiAgICAgICAgICAgICkuYWRkVG8obWFwX2RkY2E1NDA0ZWI3ODRiZjE5MzI4OWE0N2Q2OTdlZGZlKTsKICAgICAgICAKICAgIAogICAgICAgICAgICB2YXIgbWFya2VyX2JjZTkzYWUxNmUwMTQwMDFhZDY1NzlhNGE2ZGU5MWUzID0gTC5tYXJrZXIoCiAgICAgICAgICAgICAgICBbNDkuMTIxMjMyOCwgLTEyMi42NjE3NTE1XSwKICAgICAgICAgICAgICAgIHt9CiAgICAgICAgICAgICkuYWRkVG8obWFwX2RkY2E1NDA0ZWI3ODRiZjE5MzI4OWE0N2Q2OTdlZGZlKTsKICAgICAgICAKICAgIAogICAgICAgICAgICB2YXIgbWFya2VyX2U4MDExZGYwZmFkNjQ5ZjFiMTEwMmVmNzFjODFkM2I4ID0gTC5tYXJrZXIoCiAgICAgICAgICAgICAgICBbNDkuMjEyMjE5NSwgLTEyMi45MTg5MDg5XSwKICAgICAgICAgICAgICAgIHt9CiAgICAgICAgICAgICkuYWRkVG8obWFwX2RkY2E1NDA0ZWI3ODRiZjE5MzI4OWE0N2Q2OTdlZGZlKTsKICAgICAgICAKICAgIAogICAgICAgICAgICB2YXIgbWFya2VyXzQ1MmVjZmVjZjhjMDRlODNiZWI5NTYwNDQ3NzRhMGM2ID0gTC5tYXJrZXIoCiAgICAgICAgICAgICAgICBbNDkuMjY1MDg2OSwgLTEyMi43NzYyNjFdLAogICAgICAgICAgICAgICAge30KICAgICAgICAgICAgKS5hZGRUbyhtYXBfZGRjYTU0MDRlYjc4NGJmMTkzMjg5YTQ3ZDY5N2VkZmUpOwogICAgICAgIAogICAgCiAgICAgICAgICAgIHZhciBtYXJrZXJfZDEwNTI5ZTVhOTA1NDJiYWE2NjQzMDA3Zjg1NDgyMzMgPSBMLm1hcmtlcigKICAgICAgICAgICAgICAgIFs0OS4yNjQwMzg4LCAtMTIzLjE3ODA2Nl0sCiAgICAgICAgICAgICAgICB7fQogICAgICAgICAgICApLmFkZFRvKG1hcF9kZGNhNTQwNGViNzg0YmYxOTMyODlhNDdkNjk3ZWRmZSk7CiAgICAgICAgCiAgICAKICAgICAgICAgICAgdmFyIG1hcmtlcl84OWUzMzRlZjRjMmE0MTQwYjA2ZjQyNGRlYTBiNDNhOCA9IEwubWFya2VyKAogICAgICAgICAgICAgICAgWzQ5LjI2NjY4MTcsIC0xMjMuMjQyNTA2NV0sCiAgICAgICAgICAgICAgICB7fQogICAgICAgICAgICApLmFkZFRvKG1hcF9kZGNhNTQwNGViNzg0YmYxOTMyODlhNDdkNjk3ZWRmZSk7CiAgICAgICAgCiAgICAKICAgICAgICAgICAgdmFyIG1hcmtlcl85YmIxN2YxNTM3NGQ0ZWZlOWU2N2ViNzI2MGZiMTkxOCA9IEwubWFya2VyKAogICAgICAgICAgICAgICAgWzQ5LjA1OTEwNTEsIC0xMjIuNDkzODg0NV0sCiAgICAgICAgICAgICAgICB7fQogICAgICAgICAgICApLmFkZFRvKG1hcF9kZGNhNTQwNGViNzg0YmYxOTMyODlhNDdkNjk3ZWRmZSk7CiAgICAgICAgCiAgICAKICAgICAgICAgICAgdmFyIG1hcmtlcl9iNjI5OGRlNGM1ODU0NDdmYmE3ZGM2ODRkMWQzMGYzYSA9IEwubWFya2VyKAogICAgICAgICAgICAgICAgWzQ5LjIyMTA0MDUsIC0xMjIuNjU1NjY5XSwKICAgICAgICAgICAgICAgIHt9CiAgICAgICAgICAgICkuYWRkVG8obWFwX2RkY2E1NDA0ZWI3ODRiZjE5MzI4OWE0N2Q2OTdlZGZlKTsKICAgICAgICAKICAgIAogICAgICAgICAgICB2YXIgbWFya2VyXzE5YzZiZTY5N2FiMTRhZTRhMDBlY2U2MDkzODU0ODMyID0gTC5tYXJrZXIoCiAgICAgICAgICAgICAgICBbNDkuMDM1MzI1MSwgLTEyMi4yNjk3MDQ0XSwKICAgICAgICAgICAgICAgIHt9CiAgICAgICAgICAgICkuYWRkVG8obWFwX2RkY2E1NDA0ZWI3ODRiZjE5MzI4OWE0N2Q2OTdlZGZlKTsKICAgICAgICAKICAgIAogICAgICAgICAgICB2YXIgbWFya2VyX2I3YzM1Mzc0NzNjZjQwZTBiNTAxN2U5Yjc3NWVkOTJiID0gTC5tYXJrZXIoCiAgICAgICAgICAgICAgICBbNDkuMzEwMjI5OSwgLTEyMy4wODM2MDA2XSwKICAgICAgICAgICAgICAgIHt9CiAgICAgICAgICAgICkuYWRkVG8obWFwX2RkY2E1NDA0ZWI3ODRiZjE5MzI4OWE0N2Q2OTdlZGZlKTsKICAgICAgICAKICAgIAogICAgICAgICAgICB2YXIgbWFya2VyXzU1OTYyOWM3YzAwYzQ3ZTg4NzkzMGNmMmQ4OTZhOTljID0gTC5tYXJrZXIoCiAgICAgICAgICAgICAgICBbNDkuMjgxMTc3MiwgLTEyMi45OTQ0Mzc1XSwKICAgICAgICAgICAgICAgIHt9CiAgICAgICAgICAgICkuYWRkVG8obWFwX2RkY2E1NDA0ZWI3ODRiZjE5MzI4OWE0N2Q2OTdlZGZlKTsKICAgICAgICAKICAgIAogICAgICAgICAgICB2YXIgbWFya2VyXzE2ZTIzMDVkMjYwNTQ3OTBhNTQ1YWQ4NGE3MWQ3NWIyID0gTC5tYXJrZXIoCiAgICAgICAgICAgICAgICBbNDkuMjgwODM1NiwgLTEyMy4wMzA1MTIyXSwKICAgICAgICAgICAgICAgIHt9CiAgICAgICAgICAgICkuYWRkVG8obWFwX2RkY2E1NDA0ZWI3ODRiZjE5MzI4OWE0N2Q2OTdlZGZlKTsKICAgICAgICAKICAgIAogICAgICAgICAgICB2YXIgbWFya2VyXzA1NzE4YWUyOTU3ZDQ3MjY5OTAyNDcyZDA2NDk4NzYxID0gTC5tYXJrZXIoCiAgICAgICAgICAgICAgICBbNDkuMjE1NzcyOSwgLTEyMi41OTEwNDU2XSwKICAgICAgICAgICAgICAgIHt9CiAgICAgICAgICAgICkuYWRkVG8obWFwX2RkY2E1NDA0ZWI3ODRiZjE5MzI4OWE0N2Q2OTdlZGZlKTsKICAgICAgICAKICAgIAogICAgICAgICAgICB2YXIgbWFya2VyX2IzY2JjMzg0NTI0NTQyODViODU3ZDUzZWY0NzkxZjllID0gTC5tYXJrZXIoCiAgICAgICAgICAgICAgICBbNDkuMDU4MDE5NywgLTEyMi4zNzY3Mzk4XSwKICAgICAgICAgICAgICAgIHt9CiAgICAgICAgICAgICkuYWRkVG8obWFwX2RkY2E1NDA0ZWI3ODRiZjE5MzI4OWE0N2Q2OTdlZGZlKTsKICAgICAgICAKICAgIAogICAgICAgICAgICB2YXIgbWFya2VyXzc2MWMxMDNhZmFkZjQ1NGI5NTlkMDlhMWE1MzY0ZjBjID0gTC5tYXJrZXIoCiAgICAgICAgICAgICAgICBbNDkuMjc4ODUxMSwgLTEyMy4xMTU2ODkxXSwKICAgICAgICAgICAgICAgIHt9CiAgICAgICAgICAgICkuYWRkVG8obWFwX2RkY2E1NDA0ZWI3ODRiZjE5MzI4OWE0N2Q2OTdlZGZlKTsKICAgICAgICAKICAgIAogICAgICAgICAgICB2YXIgbWFya2VyX2JjMmNmYjc2NTZhZDQxYzRhZDFhNGRkNDRjMGJkNDMzID0gTC5tYXJrZXIoCiAgICAgICAgICAgICAgICBbNDkuMTYxNjEyNCwgLTEyMi43OTExODU2XSwKICAgICAgICAgICAgICAgIHt9CiAgICAgICAgICAgICkuYWRkVG8obWFwX2RkY2E1NDA0ZWI3ODRiZjE5MzI4OWE0N2Q2OTdlZGZlKTsKICAgICAgICAKICAgIAogICAgICAgICAgICB2YXIgbWFya2VyXzMwYWZmYzBlZjhlYTQ1ODc4Y2M2MjYyMWFhY2IxODQ0ID0gTC5tYXJrZXIoCiAgICAgICAgICAgICAgICBbNDkuMjc5NzAwMiwgLTEyMi43OTg4NDU1OTk5OTk5OV0sCiAgICAgICAgICAgICAgICB7fQogICAgICAgICAgICApLmFkZFRvKG1hcF9kZGNhNTQwNGViNzg0YmYxOTMyODlhNDdkNjk3ZWRmZSk7CiAgICAgICAgCiAgICAKICAgICAgICAgICAgdmFyIG1hcmtlcl8zNmE2ZDhjNzYyNWY0ZTMxODBjOWZiZDI4OTk3ZWVmOCA9IEwubWFya2VyKAogICAgICAgICAgICAgICAgWzQ5LjI4NTI4ODQsIC0xMjMuMTM5MDIyMl0sCiAgICAgICAgICAgICAgICB7fQogICAgICAgICAgICApLmFkZFRvKG1hcF9kZGNhNTQwNGViNzg0YmYxOTMyODlhNDdkNjk3ZWRmZSk7CiAgICAgICAgCjwvc2NyaXB0Pg== onload=\"this.contentDocument.open();this.contentDocument.write(atob(this.getAttribute('data-html')));this.contentDocument.close();\" allowfullscreen webkitallowfullscreen mozallowfullscreen></iframe></div></div>"
      ],
      "text/plain": [
       "<folium.folium.Map at 0x2ca33534688>"
      ]
     },
     "execution_count": 7,
     "metadata": {},
     "output_type": "execute_result"
    }
   ],
   "source": [
    "# folium.Marker().add_to(m)\n",
    "\n",
    "data[data['name'] == 'McDonald\\'s'].apply(lambda x: folium.Marker(location = [x['lat'], x['lon']]).add_to(m), axis = 1);\n",
    "m\n",
    "\n"
   ]
  },
  {
   "cell_type": "code",
   "execution_count": null,
   "metadata": {},
   "outputs": [],
   "source": []
  }
 ],
 "metadata": {
  "kernelspec": {
   "display_name": "Python 3",
   "language": "python",
   "name": "python3"
  },
  "language_info": {
   "codemirror_mode": {
    "name": "ipython",
    "version": 3
   },
   "file_extension": ".py",
   "mimetype": "text/x-python",
   "name": "python",
   "nbconvert_exporter": "python",
   "pygments_lexer": "ipython3",
   "version": "3.7.6"
  }
 },
 "nbformat": 4,
 "nbformat_minor": 4
}
