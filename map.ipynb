{
 "cells": [
  {
   "cell_type": "code",
   "execution_count": 1,
   "metadata": {},
   "outputs": [],
   "source": [
    "import sys\n",
    "import numpy as np\n",
    "import pandas as pd\n",
    "import folium\n",
    "from folium.plugins import MarkerCluster"
   ]
  },
  {
   "cell_type": "code",
   "execution_count": 2,
   "metadata": {},
   "outputs": [],
   "source": [
    "data_path = \"./osm/amenities-vancouver.json.gz\""
   ]
  },
  {
   "cell_type": "code",
   "execution_count": 3,
   "metadata": {},
   "outputs": [
    {
     "data": {
      "text/html": [
       "<div>\n",
       "<style scoped>\n",
       "    .dataframe tbody tr th:only-of-type {\n",
       "        vertical-align: middle;\n",
       "    }\n",
       "\n",
       "    .dataframe tbody tr th {\n",
       "        vertical-align: top;\n",
       "    }\n",
       "\n",
       "    .dataframe thead th {\n",
       "        text-align: right;\n",
       "    }\n",
       "</style>\n",
       "<table border=\"1\" class=\"dataframe\">\n",
       "  <thead>\n",
       "    <tr style=\"text-align: right;\">\n",
       "      <th></th>\n",
       "      <th>lat</th>\n",
       "      <th>lon</th>\n",
       "      <th>timestamp</th>\n",
       "      <th>amenity</th>\n",
       "      <th>name</th>\n",
       "      <th>tags</th>\n",
       "    </tr>\n",
       "  </thead>\n",
       "  <tbody>\n",
       "    <tr>\n",
       "      <th>0</th>\n",
       "      <td>49.260812</td>\n",
       "      <td>-123.125736</td>\n",
       "      <td>2020-03-20T18:22:12.000-07:00</td>\n",
       "      <td>cafe</td>\n",
       "      <td>Starbucks</td>\n",
       "      <td>{'brand:wikidata': 'Q37158', 'official_name': ...</td>\n",
       "    </tr>\n",
       "    <tr>\n",
       "      <th>1</th>\n",
       "      <td>49.260953</td>\n",
       "      <td>-123.125704</td>\n",
       "      <td>2019-08-02T18:11:20.000-07:00</td>\n",
       "      <td>fast_food</td>\n",
       "      <td>Salad Loop</td>\n",
       "      <td>{'opening_hours': 'Mo-Fr 07:00-17:00; Sa 10:00...</td>\n",
       "    </tr>\n",
       "    <tr>\n",
       "      <th>2</th>\n",
       "      <td>49.373423</td>\n",
       "      <td>-123.291894</td>\n",
       "      <td>2016-10-10T02:14:29.000-07:00</td>\n",
       "      <td>toilets</td>\n",
       "      <td>NaN</td>\n",
       "      <td>{}</td>\n",
       "    </tr>\n",
       "    <tr>\n",
       "      <th>3</th>\n",
       "      <td>49.249848</td>\n",
       "      <td>-122.959708</td>\n",
       "      <td>2011-09-06T03:52:10.000-07:00</td>\n",
       "      <td>bbq</td>\n",
       "      <td>NaN</td>\n",
       "      <td>{}</td>\n",
       "    </tr>\n",
       "    <tr>\n",
       "      <th>4</th>\n",
       "      <td>49.370898</td>\n",
       "      <td>-123.280448</td>\n",
       "      <td>2015-05-03T00:42:25.000-07:00</td>\n",
       "      <td>place_of_worship</td>\n",
       "      <td>St. Monica's Anglican Church</td>\n",
       "      <td>{'addr:housenumber': '6404', 'addr:street': 'W...</td>\n",
       "    </tr>\n",
       "    <tr>\n",
       "      <th>...</th>\n",
       "      <td>...</td>\n",
       "      <td>...</td>\n",
       "      <td>...</td>\n",
       "      <td>...</td>\n",
       "      <td>...</td>\n",
       "      <td>...</td>\n",
       "    </tr>\n",
       "    <tr>\n",
       "      <th>17713</th>\n",
       "      <td>49.278424</td>\n",
       "      <td>-122.806704</td>\n",
       "      <td>2013-03-26T23:45:49.000-07:00</td>\n",
       "      <td>cafe</td>\n",
       "      <td>Creekside Coffee</td>\n",
       "      <td>{}</td>\n",
       "    </tr>\n",
       "    <tr>\n",
       "      <th>17714</th>\n",
       "      <td>49.278770</td>\n",
       "      <td>-122.797628</td>\n",
       "      <td>2013-03-26T23:45:49.000-07:00</td>\n",
       "      <td>restaurant</td>\n",
       "      <td>Togo Sushi</td>\n",
       "      <td>{'cuisine': 'japanese'}</td>\n",
       "    </tr>\n",
       "    <tr>\n",
       "      <th>17715</th>\n",
       "      <td>49.276443</td>\n",
       "      <td>-122.790138</td>\n",
       "      <td>2013-03-26T23:45:50.000-07:00</td>\n",
       "      <td>parking</td>\n",
       "      <td>NaN</td>\n",
       "      <td>{}</td>\n",
       "    </tr>\n",
       "    <tr>\n",
       "      <th>17716</th>\n",
       "      <td>49.282666</td>\n",
       "      <td>-122.826978</td>\n",
       "      <td>2019-09-13T13:56:49.000-07:00</td>\n",
       "      <td>pub</td>\n",
       "      <td>Brown's Social House</td>\n",
       "      <td>{'addr:housenumber': '215', 'brewery': 'Guinne...</td>\n",
       "    </tr>\n",
       "    <tr>\n",
       "      <th>17717</th>\n",
       "      <td>49.282420</td>\n",
       "      <td>-122.826340</td>\n",
       "      <td>2019-09-13T13:56:49.000-07:00</td>\n",
       "      <td>cafe</td>\n",
       "      <td>Gallagher's Cafe</td>\n",
       "      <td>{'addr:housenumber': '232', 'internet_access':...</td>\n",
       "    </tr>\n",
       "  </tbody>\n",
       "</table>\n",
       "<p>17718 rows × 6 columns</p>\n",
       "</div>"
      ],
      "text/plain": [
       "             lat         lon                      timestamp           amenity  \\\n",
       "0      49.260812 -123.125736  2020-03-20T18:22:12.000-07:00              cafe   \n",
       "1      49.260953 -123.125704  2019-08-02T18:11:20.000-07:00         fast_food   \n",
       "2      49.373423 -123.291894  2016-10-10T02:14:29.000-07:00           toilets   \n",
       "3      49.249848 -122.959708  2011-09-06T03:52:10.000-07:00               bbq   \n",
       "4      49.370898 -123.280448  2015-05-03T00:42:25.000-07:00  place_of_worship   \n",
       "...          ...         ...                            ...               ...   \n",
       "17713  49.278424 -122.806704  2013-03-26T23:45:49.000-07:00              cafe   \n",
       "17714  49.278770 -122.797628  2013-03-26T23:45:49.000-07:00        restaurant   \n",
       "17715  49.276443 -122.790138  2013-03-26T23:45:50.000-07:00           parking   \n",
       "17716  49.282666 -122.826978  2019-09-13T13:56:49.000-07:00               pub   \n",
       "17717  49.282420 -122.826340  2019-09-13T13:56:49.000-07:00              cafe   \n",
       "\n",
       "                               name  \\\n",
       "0                         Starbucks   \n",
       "1                        Salad Loop   \n",
       "2                               NaN   \n",
       "3                               NaN   \n",
       "4      St. Monica's Anglican Church   \n",
       "...                             ...   \n",
       "17713              Creekside Coffee   \n",
       "17714                    Togo Sushi   \n",
       "17715                           NaN   \n",
       "17716          Brown's Social House   \n",
       "17717              Gallagher's Cafe   \n",
       "\n",
       "                                                    tags  \n",
       "0      {'brand:wikidata': 'Q37158', 'official_name': ...  \n",
       "1      {'opening_hours': 'Mo-Fr 07:00-17:00; Sa 10:00...  \n",
       "2                                                     {}  \n",
       "3                                                     {}  \n",
       "4      {'addr:housenumber': '6404', 'addr:street': 'W...  \n",
       "...                                                  ...  \n",
       "17713                                                 {}  \n",
       "17714                            {'cuisine': 'japanese'}  \n",
       "17715                                                 {}  \n",
       "17716  {'addr:housenumber': '215', 'brewery': 'Guinne...  \n",
       "17717  {'addr:housenumber': '232', 'internet_access':...  \n",
       "\n",
       "[17718 rows x 6 columns]"
      ]
     },
     "execution_count": 3,
     "metadata": {},
     "output_type": "execute_result"
    }
   ],
   "source": [
    "data = pd.read_json(data_path, lines = True)\n",
    "data"
   ]
  },
  {
   "cell_type": "code",
   "execution_count": 4,
   "metadata": {},
   "outputs": [],
   "source": [
    "coord = [data.lat.mean(), data.lon.mean()]"
   ]
  },
  {
   "cell_type": "code",
   "execution_count": 5,
   "metadata": {
    "scrolled": true
   },
   "outputs": [],
   "source": [
    "m = folium.Map(location = coord, zoom_start = 11)"
   ]
  },
  {
   "cell_type": "code",
   "execution_count": 6,
   "metadata": {},
   "outputs": [
    {
     "data": {
      "text/plain": [
       "217"
      ]
     },
     "execution_count": 6,
     "metadata": {},
     "output_type": "execute_result"
    }
   ],
   "source": [
    "len(data[data['name'] == 'Starbucks'])\n"
   ]
  },
  {
   "cell_type": "code",
   "execution_count": 7,
   "metadata": {},
   "outputs": [
    {
     "ename": "KeyError",
     "evalue": "\"None of [Index(['Boston Pizza', 'Spacca Napoli', 'Pizza Farina', 'Panago Pizza',\\n       'Round Table Pizza', 'Boston Pizza', 'Pizza Hut', 'Freshslice',\\n       'Freshslice Pizza', 'Chuck E. Cheese's',\\n       ...\\n       'Gate-way Pizza and Curry House', 'Papa Murphy's',\\n       'Fresco Pizza & Wings', 'Pappa Leo's', 'Pizza Factory', 'Elvis Pizza',\\n       'Panago', 'Pizzeria Barbarella', 'Dallas Pizza & Souvlaki',\\n       'Pizza Pizza'],\\n      dtype='object', length=299)] are in the [columns]\"",
     "output_type": "error",
     "traceback": [
      "\u001b[1;31m---------------------------------------------------------------------------\u001b[0m",
      "\u001b[1;31mKeyError\u001b[0m                                  Traceback (most recent call last)",
      "\u001b[1;32m<ipython-input-7-353d02e8292b>\u001b[0m in \u001b[0;36m<module>\u001b[1;34m\u001b[0m\n\u001b[0;32m      9\u001b[0m \u001b[0mpizza\u001b[0m \u001b[1;33m=\u001b[0m \u001b[0mpizza\u001b[0m\u001b[1;33m[\u001b[0m\u001b[1;33m[\u001b[0m\u001b[1;34m'lat'\u001b[0m\u001b[1;33m,\u001b[0m \u001b[1;34m'lon'\u001b[0m\u001b[1;33m,\u001b[0m \u001b[1;34m'name'\u001b[0m\u001b[1;33m]\u001b[0m\u001b[1;33m]\u001b[0m\u001b[1;33m\u001b[0m\u001b[1;33m\u001b[0m\u001b[0m\n\u001b[0;32m     10\u001b[0m \u001b[1;33m\u001b[0m\u001b[0m\n\u001b[1;32m---> 11\u001b[1;33m \u001b[0mpizza\u001b[0m\u001b[1;33m[\u001b[0m\u001b[0mpizza\u001b[0m\u001b[1;33m[\u001b[0m\u001b[1;34m'name'\u001b[0m\u001b[1;33m]\u001b[0m\u001b[1;33m]\u001b[0m\u001b[1;33m.\u001b[0m\u001b[0mapply\u001b[0m\u001b[1;33m(\u001b[0m\u001b[1;32mlambda\u001b[0m \u001b[0mx\u001b[0m\u001b[1;33m:\u001b[0m \u001b[0mfolium\u001b[0m\u001b[1;33m.\u001b[0m\u001b[0mMarker\u001b[0m\u001b[1;33m(\u001b[0m\u001b[0mlocation\u001b[0m \u001b[1;33m=\u001b[0m \u001b[1;33m[\u001b[0m\u001b[0mx\u001b[0m\u001b[1;33m[\u001b[0m\u001b[1;34m'lat'\u001b[0m\u001b[1;33m]\u001b[0m\u001b[1;33m,\u001b[0m \u001b[0mx\u001b[0m\u001b[1;33m[\u001b[0m\u001b[1;34m'lon'\u001b[0m\u001b[1;33m]\u001b[0m\u001b[1;33m]\u001b[0m\u001b[1;33m)\u001b[0m\u001b[1;33m.\u001b[0m\u001b[0madd_to\u001b[0m\u001b[1;33m(\u001b[0m\u001b[0mm\u001b[0m\u001b[1;33m)\u001b[0m\u001b[1;33m,\u001b[0m \u001b[0maxis\u001b[0m \u001b[1;33m=\u001b[0m \u001b[1;36m1\u001b[0m\u001b[1;33m)\u001b[0m\u001b[1;33m;\u001b[0m\u001b[1;33m\u001b[0m\u001b[1;33m\u001b[0m\u001b[0m\n\u001b[0m\u001b[0;32m     12\u001b[0m \u001b[0mm\u001b[0m\u001b[1;33m\u001b[0m\u001b[1;33m\u001b[0m\u001b[0m\n\u001b[0;32m     13\u001b[0m \u001b[1;33m\u001b[0m\u001b[0m\n",
      "\u001b[1;32mF:\\Anaconda\\lib\\site-packages\\pandas\\core\\frame.py\u001b[0m in \u001b[0;36m__getitem__\u001b[1;34m(self, key)\u001b[0m\n\u001b[0;32m   2804\u001b[0m             \u001b[1;32mif\u001b[0m \u001b[0mis_iterator\u001b[0m\u001b[1;33m(\u001b[0m\u001b[0mkey\u001b[0m\u001b[1;33m)\u001b[0m\u001b[1;33m:\u001b[0m\u001b[1;33m\u001b[0m\u001b[1;33m\u001b[0m\u001b[0m\n\u001b[0;32m   2805\u001b[0m                 \u001b[0mkey\u001b[0m \u001b[1;33m=\u001b[0m \u001b[0mlist\u001b[0m\u001b[1;33m(\u001b[0m\u001b[0mkey\u001b[0m\u001b[1;33m)\u001b[0m\u001b[1;33m\u001b[0m\u001b[1;33m\u001b[0m\u001b[0m\n\u001b[1;32m-> 2806\u001b[1;33m             \u001b[0mindexer\u001b[0m \u001b[1;33m=\u001b[0m \u001b[0mself\u001b[0m\u001b[1;33m.\u001b[0m\u001b[0mloc\u001b[0m\u001b[1;33m.\u001b[0m\u001b[0m_get_listlike_indexer\u001b[0m\u001b[1;33m(\u001b[0m\u001b[0mkey\u001b[0m\u001b[1;33m,\u001b[0m \u001b[0maxis\u001b[0m\u001b[1;33m=\u001b[0m\u001b[1;36m1\u001b[0m\u001b[1;33m,\u001b[0m \u001b[0mraise_missing\u001b[0m\u001b[1;33m=\u001b[0m\u001b[1;32mTrue\u001b[0m\u001b[1;33m)\u001b[0m\u001b[1;33m[\u001b[0m\u001b[1;36m1\u001b[0m\u001b[1;33m]\u001b[0m\u001b[1;33m\u001b[0m\u001b[1;33m\u001b[0m\u001b[0m\n\u001b[0m\u001b[0;32m   2807\u001b[0m \u001b[1;33m\u001b[0m\u001b[0m\n\u001b[0;32m   2808\u001b[0m         \u001b[1;31m# take() does not accept boolean indexers\u001b[0m\u001b[1;33m\u001b[0m\u001b[1;33m\u001b[0m\u001b[1;33m\u001b[0m\u001b[0m\n",
      "\u001b[1;32mF:\\Anaconda\\lib\\site-packages\\pandas\\core\\indexing.py\u001b[0m in \u001b[0;36m_get_listlike_indexer\u001b[1;34m(self, key, axis, raise_missing)\u001b[0m\n\u001b[0;32m   1550\u001b[0m \u001b[1;33m\u001b[0m\u001b[0m\n\u001b[0;32m   1551\u001b[0m         self._validate_read_indexer(\n\u001b[1;32m-> 1552\u001b[1;33m             \u001b[0mkeyarr\u001b[0m\u001b[1;33m,\u001b[0m \u001b[0mindexer\u001b[0m\u001b[1;33m,\u001b[0m \u001b[0mo\u001b[0m\u001b[1;33m.\u001b[0m\u001b[0m_get_axis_number\u001b[0m\u001b[1;33m(\u001b[0m\u001b[0maxis\u001b[0m\u001b[1;33m)\u001b[0m\u001b[1;33m,\u001b[0m \u001b[0mraise_missing\u001b[0m\u001b[1;33m=\u001b[0m\u001b[0mraise_missing\u001b[0m\u001b[1;33m\u001b[0m\u001b[1;33m\u001b[0m\u001b[0m\n\u001b[0m\u001b[0;32m   1553\u001b[0m         )\n\u001b[0;32m   1554\u001b[0m         \u001b[1;32mreturn\u001b[0m \u001b[0mkeyarr\u001b[0m\u001b[1;33m,\u001b[0m \u001b[0mindexer\u001b[0m\u001b[1;33m\u001b[0m\u001b[1;33m\u001b[0m\u001b[0m\n",
      "\u001b[1;32mF:\\Anaconda\\lib\\site-packages\\pandas\\core\\indexing.py\u001b[0m in \u001b[0;36m_validate_read_indexer\u001b[1;34m(self, key, indexer, axis, raise_missing)\u001b[0m\n\u001b[0;32m   1637\u001b[0m             \u001b[1;32mif\u001b[0m \u001b[0mmissing\u001b[0m \u001b[1;33m==\u001b[0m \u001b[0mlen\u001b[0m\u001b[1;33m(\u001b[0m\u001b[0mindexer\u001b[0m\u001b[1;33m)\u001b[0m\u001b[1;33m:\u001b[0m\u001b[1;33m\u001b[0m\u001b[1;33m\u001b[0m\u001b[0m\n\u001b[0;32m   1638\u001b[0m                 \u001b[0maxis_name\u001b[0m \u001b[1;33m=\u001b[0m \u001b[0mself\u001b[0m\u001b[1;33m.\u001b[0m\u001b[0mobj\u001b[0m\u001b[1;33m.\u001b[0m\u001b[0m_get_axis_name\u001b[0m\u001b[1;33m(\u001b[0m\u001b[0maxis\u001b[0m\u001b[1;33m)\u001b[0m\u001b[1;33m\u001b[0m\u001b[1;33m\u001b[0m\u001b[0m\n\u001b[1;32m-> 1639\u001b[1;33m                 \u001b[1;32mraise\u001b[0m \u001b[0mKeyError\u001b[0m\u001b[1;33m(\u001b[0m\u001b[1;34mf\"None of [{key}] are in the [{axis_name}]\"\u001b[0m\u001b[1;33m)\u001b[0m\u001b[1;33m\u001b[0m\u001b[1;33m\u001b[0m\u001b[0m\n\u001b[0m\u001b[0;32m   1640\u001b[0m \u001b[1;33m\u001b[0m\u001b[0m\n\u001b[0;32m   1641\u001b[0m             \u001b[1;31m# We (temporarily) allow for some missing keys with .loc, except in\u001b[0m\u001b[1;33m\u001b[0m\u001b[1;33m\u001b[0m\u001b[1;33m\u001b[0m\u001b[0m\n",
      "\u001b[1;31mKeyError\u001b[0m: \"None of [Index(['Boston Pizza', 'Spacca Napoli', 'Pizza Farina', 'Panago Pizza',\\n       'Round Table Pizza', 'Boston Pizza', 'Pizza Hut', 'Freshslice',\\n       'Freshslice Pizza', 'Chuck E. Cheese's',\\n       ...\\n       'Gate-way Pizza and Curry House', 'Papa Murphy's',\\n       'Fresco Pizza & Wings', 'Pappa Leo's', 'Pizza Factory', 'Elvis Pizza',\\n       'Panago', 'Pizzeria Barbarella', 'Dallas Pizza & Souvlaki',\\n       'Pizza Pizza'],\\n      dtype='object', length=299)] are in the [columns]\""
     ]
    }
   ],
   "source": [
    "# folium.Marker().add_to(m)\n",
    "\n",
    "data[data['name'] == 'McDonald\\'s'].apply(lambda x: folium.Marker(location = [x['lat'], x['lon']]).add_to(m), axis = 1);\n",
    "m\n",
    "\n"
   ]
  },
  {
   "cell_type": "code",
   "execution_count": null,
   "metadata": {},
   "outputs": [],
   "source": []
  }
 ],
 "metadata": {
  "kernelspec": {
   "display_name": "Python 3",
   "language": "python",
   "name": "python3"
  },
  "language_info": {
   "codemirror_mode": {
    "name": "ipython",
    "version": 3
   },
   "file_extension": ".py",
   "mimetype": "text/x-python",
   "name": "python",
   "nbconvert_exporter": "python",
   "pygments_lexer": "ipython3",
   "version": "3.7.6"
  }
 },
 "nbformat": 4,
 "nbformat_minor": 4
}
